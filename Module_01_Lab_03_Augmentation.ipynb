{
  "nbformat": 4,
  "nbformat_minor": 0,
  "metadata": {
    "colab": {
      "provenance": [],
      "include_colab_link": true
    },
    "kernelspec": {
      "name": "python3",
      "display_name": "Python 3"
    },
    "language_info": {
      "name": "python"
    }
  },
  "cells": [
    {
      "cell_type": "markdown",
      "metadata": {
        "id": "view-in-github",
        "colab_type": "text"
      },
      "source": [
        "<a href=\"https://colab.research.google.com/github/nandhutadepalli/Fmml_projects_and_labs/blob/main/Module_01_Lab_03_Augmentation.ipynb\" target=\"_parent\"><img src=\"https://colab.research.google.com/assets/colab-badge.svg\" alt=\"Open In Colab\"/></a>"
      ]
    },
    {
      "cell_type": "markdown",
      "metadata": {
        "id": "w3yfry25JgZK"
      },
      "source": [
        "# Data augmentation\n",
        "\n",
        "FMML Module 1, Lab 3<br>\n",
        "\n",
        " In this lab, we will see how augmentation of data samples help in improving the machine learning performance"
      ]
    },
    {
      "cell_type": "code",
      "metadata": {
        "id": "xZU8_elooqP0"
      },
      "source": [
        "import numpy as np\n",
        "import matplotlib.pyplot as plt\n",
        "from keras.datasets import mnist\n",
        "# set randomseed\n",
        "rng = np.random.default_rng(seed=42)\n",
        "from sklearn.utils.extmath import cartesian\n",
        "from skimage.transform import rotate, AffineTransform, warp\n",
        "import math"
      ],
      "execution_count": 10,
      "outputs": []
    },
    {
      "cell_type": "markdown",
      "metadata": {
        "id": "T5pHYogSMHiE"
      },
      "source": [
        "Augmentation is useful when we have less training data available. Augmentation allows us to 'create' a larger dataset programatically.\n",
        "\n",
        "For this lab we will use a subset of MNIST that is very small, to better understand the effect of augmentation."
      ]
    },
    {
      "cell_type": "code",
      "metadata": {
        "id": "gJvmWJ58ovx5",
        "colab": {
          "base_uri": "https://localhost:8080/"
        },
        "outputId": "fe121e50-d160-40bc-9bb1-a607e3d164a7"
      },
      "source": [
        "#loading the dataset\n",
        "(train_X, train_y), (test_X, test_y) = mnist.load_data()\n",
        "train_X = train_X/255\n",
        "test_X = test_X/255\n",
        "\n",
        "train_X = train_X[::1200,:,:].copy() # subsample. Otherwise it will take too long!\n",
        "train_y = train_y[::1200].copy() # do the same to the labels"
      ],
      "execution_count": 11,
      "outputs": [
        {
          "output_type": "stream",
          "name": "stdout",
          "text": [
            "Downloading data from https://storage.googleapis.com/tensorflow/tf-keras-datasets/mnist.npz\n",
            "11490434/11490434 [==============================] - 1s 0us/step\n"
          ]
        }
      ]
    },
    {
      "cell_type": "markdown",
      "metadata": {
        "id": "8XamH6z1Rt7S"
      },
      "source": [
        "Let us borrow a few functions from the previous labs:"
      ]
    },
    {
      "cell_type": "code",
      "metadata": {
        "id": "Zk2W5_3BRLMS"
      },
      "source": [
        "def NN1(traindata, trainlabel, query):\n",
        "  diff  = traindata - query  # find the difference between features. Numpy automatically takes care of the size here\n",
        "  sq = diff*diff # square the differences\n",
        "  dist = sq.sum(1) # add up the squares\n",
        "  label = trainlabel[np.argmin(dist)] # our predicted label is the label of the training data which has the least distance from the query\n",
        "  return label\n",
        "\n",
        "def NN(traindata, trainlabel, testdata):\n",
        "  # we will run nearest neighbour for each sample in the test data\n",
        "  # and collect the predicted classes in an array using list comprehension\n",
        "  traindata = traindata.reshape(-1, 28*28)\n",
        "  testdata = testdata.reshape(-1,28*28)\n",
        "  predlabel = np.array([NN1(traindata, trainlabel, i) for i in testdata])\n",
        "  return predlabel\n",
        "\n",
        "def Accuracy(gtlabel, predlabel):\n",
        "  assert len(gtlabel)==len(predlabel), \"Length of the groundtruth labels and predicted labels should be the same\"\n",
        "  correct = (gtlabel==predlabel).sum() # count the number of times the groundtruth label is equal to the predicted label.\n",
        "  return correct/len(gtlabel)"
      ],
      "execution_count": 12,
      "outputs": []
    },
    {
      "cell_type": "markdown",
      "metadata": {
        "id": "eGiA3LmDSJZo"
      },
      "source": [
        "In this lab, we will use the image pixels themselves as features, instead of extracting features. Each image has 28*28 pixels, so we will flatten them to 784 pixels to use as features. Note that this is very compute intensive and will take a long time.<br>\n",
        "\n",
        "Let us check the baseline accuracy on the test set without any augmentations. We hope that adding augmentations will help us to get better results."
      ]
    },
    {
      "cell_type": "code",
      "metadata": {
        "id": "4tQvnoasRNEV",
        "colab": {
          "base_uri": "https://localhost:8080/"
        },
        "outputId": "9e072965-202c-462d-a77e-2686b7fcdb38"
      },
      "source": [
        "testpred = NN(train_X, train_y, test_X)\n",
        "print('Baseline accuracy without augmentation is ', Accuracy(test_y, testpred))"
      ],
      "execution_count": 13,
      "outputs": [
        {
          "output_type": "stream",
          "name": "stdout",
          "text": [
            "Baseline accuracy without augmentation is  0.6472\n"
          ]
        }
      ]
    },
    {
      "cell_type": "markdown",
      "metadata": {
        "id": "ZfkcMfhIZQ7U"
      },
      "source": [
        "Let us try to improve this accuracy using augmentations. When we create augmentations, we have to make sure that the changes reflect what will naturally occur in the dataset. For example, we should not add colour to our samples as an augmentation because they do not naturally occur. We should not also flip the images in MNIST, because flipped images have different meanings for digits.\n",
        "\n",
        "### Augmentation 1: rotation\n",
        "\n",
        "Let us try rotating the image a little. We will use skimage library for this."
      ]
    },
    {
      "cell_type": "code",
      "metadata": {
        "id": "z5WolJ9fZE7L",
        "colab": {
          "base_uri": "https://localhost:8080/",
          "height": 860
        },
        "outputId": "4b707fed-e332-49f9-8065-162305bfba09"
      },
      "source": [
        "plt.imshow(train_X[2], cmap='gray')\n",
        "plt.show()\n",
        "plt.imshow(rotate(train_X[2],25), cmap='gray')"
      ],
      "execution_count": 14,
      "outputs": [
        {
          "output_type": "display_data",
          "data": {
            "text/plain": [
              "<Figure size 640x480 with 1 Axes>"
            ],
            "image/png": "[encoded data removed]"
          },
          "metadata": {}
        },
        {
          "output_type": "execute_result",
          "data": {
            "text/plain": [
              "<matplotlib.image.AxesImage at 0x7ee8e545b460>"
            ]
          },
          "metadata": {},
          "execution_count": 14
        },
        {
          "output_type": "display_data",
          "data": {
            "text/plain": [
              "<Figure size 640x480 with 1 Axes>"
            ],
            "image/png": "[encoded data removed]"
          },
          "metadata": {}
        }
      ]
    },
    {
      "cell_type": "markdown",
      "metadata": {
        "id": "KE33Yxgggu0c"
      },
      "source": [
        "After rotating, the the class of the image is still the same. Let us make a function to rotate multiple images by random angles. We want a slightly different image every time we run this function. So, we generate a random number between 0 and 1 and change it so that it lies between -constraint/2 and +constraint/2"
      ]
    },
    {
      "cell_type": "code",
      "metadata": {
        "id": "vyM7pUV7Reze"
      },
      "source": [
        "def augRotate(sample, angleconstraint):\n",
        "  if angleconstraint==0:\n",
        "    return sample\n",
        "  if len(sample.shape)==2:\n",
        "    sample = np.expand_dims(sample, 0)  # make sure the sample is 3 dimensional\n",
        "  angle = rng.random(len(sample)) # generate random numbers for angles\n",
        "  angle = (angle-0.5)*angleconstraint # make the random angle constrained\n",
        "  nsample = sample.copy() # preallocate the augmented array to make it faster\n",
        "  for ii in range(len(sample)):\n",
        "    nsample[ii] = rotate(sample[ii], angle[ii])\n",
        "  return np.squeeze(nsample) # take care if the input had only one sample."
      ],
      "execution_count": 15,
      "outputs": []
    },
    {
      "cell_type": "markdown",
      "metadata": {
        "id": "kDk-N5VNjar9"
      },
      "source": [
        "This function returns a slightly different image each time we call it. So we can increase the number of images in the sample by any multiple."
      ]
    },
    {
      "cell_type": "code",
      "metadata": {
        "id": "Vw3O9zGFgI8K",
        "colab": {
          "base_uri": "https://localhost:8080/",
          "height": 639
        },
        "outputId": "76dceabf-695d-4823-9a4d-52e6f274fb96"
      },
      "source": [
        "sample = train_X[20]\n",
        "angleconstraint = 70\n",
        "# show the original image\n",
        "plt.imshow(sample, cmap='gray')\n",
        "plt.show()\n",
        "plt.subplot(1,3,1)\n",
        "plt.imshow(augRotate(sample, angleconstraint), cmap='gray') # show an augmented image\n",
        "plt.subplot(1,3,2)\n",
        "plt.imshow(augRotate(sample, angleconstraint), cmap='gray') # show another augmented image from the same sample\n",
        "plt.subplot(1,3,3)\n",
        "plt.imshow(augRotate(sample, angleconstraint), cmap='gray') # one more image from the same sample"
      ],
      "execution_count": 16,
      "outputs": [
        {
          "output_type": "display_data",
          "data": {
            "text/plain": [
              "<Figure size 640x480 with 1 Axes>"
            ],
            "image/png": "[encoded data removed]"
          },
          "metadata": {}
        },
        {
          "output_type": "execute_result",
          "data": {
            "text/plain": [
              "<matplotlib.image.AxesImage at 0x7ee8e51e8d30>"
            ]
          },
          "metadata": {},
          "execution_count": 16
        },
        {
          "output_type": "display_data",
          "data": {
            "text/plain": [
              "<Figure size 640x480 with 3 Axes>"
            ],
            "image/png": "[encoded data removed]"
          },
          "metadata": {}
        }
      ]
    },
    {
      "cell_type": "markdown",
      "metadata": {
        "id": "ytv3NxF-kgxN"
      },
      "source": [
        "Let us augment the whole dataset and see if this improves the test accuracy"
      ]
    },
    {
      "cell_type": "code",
      "metadata": {
        "id": "iNzNAoDBkRzj",
        "colab": {
          "base_uri": "https://localhost:8080/"
        },
        "outputId": "b4c12dce-d8a9-4721-c159-efced51d7011"
      },
      "source": [
        "# hyperparameters\n",
        "angleconstraint = 60\n",
        "naugmentations = 5\n",
        "\n",
        "# augment\n",
        "augdata = train_X # we include the original images also in the augmented dataset\n",
        "auglabel = train_y\n",
        "for ii in range(naugmentations):\n",
        "  augdata = np.concatenate((augdata, augRotate(train_X, angleconstraint))) # concatenate the augmented data to the set\n",
        "  auglabel = np.concatenate((auglabel, train_y))  # the labels don't change when we augment\n",
        "\n",
        "# check the test accuracy\n",
        "testpred = NN(augdata, auglabel, test_X)\n",
        "print('Accuracy after rotation augmentation is ', Accuracy(test_y, testpred))"
      ],
      "execution_count": 17,
      "outputs": [
        {
          "output_type": "stream",
          "name": "stdout",
          "text": [
            "Accuracy after rotation augmentation is  0.6616\n"
          ]
        }
      ]
    },
    {
      "cell_type": "markdown",
      "metadata": {
        "id": "E88Nt9s1p5R6"
      },
      "source": [
        "The angle constraint is a hyperparameter which we have to tune using a validation set. (Here we are not doing that for time constraints). Let us try a grid search to find the best angle constraint."
      ]
    },
    {
      "cell_type": "code",
      "metadata": {
        "id": "aiaFRLREmGp6",
        "colab": {
          "base_uri": "https://localhost:8080/"
        },
        "outputId": "fa0778ed-71dd-4dd4-f29e-06d0059d9340"
      },
      "source": [
        "angleconstraints = [0,10,20,30,40,50,60,70,80,90] # the values we want to test\n",
        "accuracies = np.zeros(len(angleconstraints), dtype=np.float) # we will save the values here\n",
        "\n",
        "for ii in range(len(angleconstraints)):\n",
        "  # create the augmented dataset\n",
        "  augdata = train_X # we include the original images also in the augmented dataset\n",
        "  auglabel = train_y\n",
        "  for jj in range(naugmentations):\n",
        "    augdata = np.concatenate((augdata, augRotate(train_X, angleconstraints[ii]))) # concatenate the augmented data to the set\n",
        "    auglabel = np.concatenate((auglabel, train_y))  # the labels don't change when we augment\n",
        "\n",
        "  # check the test accuracy\n",
        "  testpred = NN(augdata, auglabel, test_X)\n",
        "  accuracies[ii] = Accuracy(test_y, testpred)\n",
        "  print('Accuracy after rotation augmentation constrained by ',angleconstraints[ii], ' is ', accuracies[ii], flush=True)"
      ],
      "execution_count": null,
      "outputs": [
        {
          "output_type": "stream",
          "name": "stdout",
          "text": [
            "Accuracy after rotation augmentation constrained by  0  is  0.6472\n",
            "Accuracy after rotation augmentation constrained by  10  is  0.6727\n",
            "Accuracy after rotation augmentation constrained by  20  is  0.673\n"
          ]
        }
      ]
    },
    {
      "cell_type": "markdown",
      "metadata": {
        "id": "2oVDRYP2rxob"
      },
      "source": [
        "Let us see the best value for angle constraint: (Ideally this should be done on validation set, not test set)"
      ]
    },
    {
      "cell_type": "code",
      "metadata": {
        "id": "LqthJa_pmMHz"
      },
      "source": [
        "fig = plt.figure()\n",
        "ax = fig.add_axes([0.1, 0.1, 0.8, 0.8]) # main axes\n",
        "# plot the variation of accuracy\n",
        "ax.plot(angleconstraints, accuracies)\n",
        "ax.set_xlabel('angle')\n",
        "ax.set_ylabel('accuracy')\n",
        "# plot the maximum accuracy\n",
        "maxind = np.argmax(accuracies)\n",
        "plt.scatter(angleconstraints[maxind], accuracies[maxind], c='red')"
      ],
      "execution_count": null,
      "outputs": []
    },
    {
      "cell_type": "markdown",
      "metadata": {
        "id": "eJ8YuVfCuGTj"
      },
      "source": [
        "Let us try one more augmentation: shear. Here is what this looks like:"
      ]
    },
    {
      "cell_type": "code",
      "metadata": {
        "id": "pMiw46NLwssK"
      },
      "source": [
        "def shear(sample, amount):\n",
        "  tform = AffineTransform(shear = amount) # create the shear transform\n",
        "  img = warp(sample, tform) # apply the shear\n",
        "  # this makes the digit off-center. Since all the images in the test set are centralized, we will do the same here\n",
        "  col = img.sum(0).nonzero()[0]\n",
        "  row = img.sum(1).nonzero()[0]\n",
        "  if len(col)>0 and len(row)>0:\n",
        "    xshift = int(sample.shape[0]/2 - (row[0]+row[-1])/2)\n",
        "    yshift = int(sample.shape[1]/2 - (col[0]+col[-1])/2)\n",
        "    img = np.roll(img, (xshift, yshift),(0,1))\n",
        "  return img"
      ],
      "execution_count": null,
      "outputs": []
    },
    {
      "cell_type": "code",
      "metadata": {
        "id": "4_u_EYpmnABK"
      },
      "source": [
        "sample = train_X[2]\n",
        "plt.imshow(sample, cmap='gray')\n",
        "plt.show()\n",
        "\n",
        "# apply shear\n",
        "plt.imshow(shear(sample, 0.4), cmap='gray')"
      ],
      "execution_count": null,
      "outputs": []
    },
    {
      "cell_type": "markdown",
      "metadata": {
        "id": "lGnWMoyM2pK4"
      },
      "source": [
        "Create an augmentation function which applies a random shear according to the constraint we provide:"
      ]
    },
    {
      "cell_type": "code",
      "metadata": {
        "id": "-qLDJyGytwP5"
      },
      "source": [
        "def augShear(sample, shearconstraint):\n",
        "  if shearconstraint==0:\n",
        "    return sample\n",
        "  if len(sample.shape)==2:\n",
        "    sample = np.expand_dims(sample, 0)  # make sure the sample is 3 dimensional\n",
        "  amt = rng.random(len(sample)) # generate random numbers for shear\n",
        "  amt = (amt-0.5)*shearconstraint # make the random shear constrained\n",
        "  nsample = sample.copy() # preallocate the augmented array to make it faster\n",
        "  for ii in range(len(sample)):\n",
        "    nsample[ii] = shear(sample[ii], amt[ii])\n",
        "  return np.squeeze(nsample) # take care if the input had only one sample."
      ],
      "execution_count": null,
      "outputs": []
    },
    {
      "cell_type": "markdown",
      "metadata": {
        "id": "s6lQcWW93suJ"
      },
      "source": [
        "Let us do a grid search to find the best shear constraint."
      ]
    },
    {
      "cell_type": "code",
      "metadata": {
        "id": "l_wrqPkrzBb_"
      },
      "source": [
        "shearconstraints = [0, 0.2,0.4,0.6,0.8,1.0,1.2,1.4,1.6,1.8,2.0] # the values we want to test\n",
        "accuracies = np.zeros(len(shearconstraints), dtype=np.float) # we will save the values here\n",
        "\n",
        "for ii in range(len(shearconstraints)):\n",
        "  # create the augmented dataset\n",
        "  augdata = train_X # we include the original images also in the augmented dataset\n",
        "  auglabel = train_y\n",
        "  for jj in range(naugmentations):\n",
        "    augdata = np.concatenate((augdata, augShear(train_X, shearconstraints[ii]))) # concatenate the augmented data to the set\n",
        "    auglabel = np.concatenate((auglabel, train_y))  # the labels don't change when we augment\n",
        "\n",
        "  # check the test accuracy\n",
        "  testpred = NN(augdata, auglabel, test_X)\n",
        "  accuracies[ii] = Accuracy(test_y, testpred)\n",
        "  print('Accuracy after shear augmentation constrained by ',shearconstraints[ii], ' is ', accuracies[ii], flush=True)"
      ],
      "execution_count": null,
      "outputs": []
    },
    {
      "cell_type": "code",
      "metadata": {
        "id": "EKaH-YR-zVnA"
      },
      "source": [
        "fig = plt.figure()\n",
        "ax = fig.add_axes([0.1, 0.1, 0.8, 0.8]) # main axes\n",
        "# plot the variation of accuracy\n",
        "ax.plot(shearconstraints, accuracies)\n",
        "ax.set_xlabel('angle')\n",
        "ax.set_ylabel('accuracy')\n",
        "# plot the maximum accuracy\n",
        "maxind = np.argmax(accuracies)\n",
        "plt.scatter(shearconstraints[maxind], accuracies[maxind], c='red')"
      ],
      "execution_count": null,
      "outputs": []
    },
    {
      "cell_type": "markdown",
      "metadata": {
        "id": "ccfdbRcQ7Zgg"
      },
      "source": [
        "We can do multiple augmentations at the same time. Here is a function to do both shear and rotation to the sample. In this case, we will have two hyperparameters."
      ]
    },
    {
      "cell_type": "code",
      "metadata": {
        "id": "sh8S_Pxa0XCv"
      },
      "source": [
        "def augRotateShear(sample, angleconstraint, shearconstraint):\n",
        "  if len(sample.shape)==2:\n",
        "    sample = np.expand_dims(sample, 0)  # make sure the sample is 3 dimensional\n",
        "  amt = rng.random(len(sample)) # generate random numbers for shear\n",
        "  amt = (amt-0.5)*shearconstraint # make the random shear constrained\n",
        "  angle = rng.random(len(sample)) # generate random numbers for angles\n",
        "  angle = (angle-0.5)*angleconstraint # make the random angle constrained\n",
        "  nsample = sample.copy() # preallocate the augmented array to make it faster\n",
        "  for ii in range(len(sample)):\n",
        "    nsample[ii] = rotate(shear(sample[ii], amt[ii]), angle[ii]) # first apply shear, then rotate\n",
        "  return np.squeeze(nsample) # take care if the input had only one sample."
      ],
      "execution_count": null,
      "outputs": []
    },
    {
      "cell_type": "markdown",
      "metadata": {
        "id": "OGKyjjNx-NQ4"
      },
      "source": [
        "Since we have two hyperparameters, we have to do the grid search on a 2 dimensional matrix. We can use our previous experience to inform where to search for the best hyperparameters."
      ]
    },
    {
      "cell_type": "code",
      "metadata": {
        "id": "TJC45WRg0pOP"
      },
      "source": [
        "shearconstraints = [0, 0.2,0.4,0.6,0.8,1.0,1.2,1.4,1.6] # the values we want to test\n",
        "angleconstraints = [0,10,20,30,40,50,60] # the values we want to test\n",
        "hyp = cartesian((shearconstraints, angleconstraints)) # cartesian product of both\n",
        "\n",
        "accuracies = np.zeros(len(hyp), dtype=np.float) # we will save the values here\n",
        "\n",
        "for ii in range(len(hyp)):\n",
        "  # create the augmented dataset\n",
        "  augdata = train_X # we include the original images also in the augmented dataset\n",
        "  auglabel = train_y\n",
        "  for jj in range(naugmentations):\n",
        "    augdata = np.concatenate((augdata, augRotateShear(train_X, hyp[ii][0], hyp[ii][1]))) # concatenate the augmented data to the set\n",
        "    auglabel = np.concatenate((auglabel, train_y))  # the labels don't change when we augment\n",
        "\n",
        "  # check the test accuracy\n",
        "  testpred = NN(augdata, auglabel, test_X)\n",
        "  accuracies[ii] = Accuracy(test_y, testpred)\n",
        "  print('Accuracy after augmentation shear:',hyp[ii][0], 'angle:',hyp[ii][1], ' is ', accuracies[ii], flush=True)"
      ],
      "execution_count": null,
      "outputs": []
    },
    {
      "cell_type": "markdown",
      "metadata": {
        "id": "PT6CnvSDEX7a"
      },
      "source": [
        "Let us plot it two dimensionally to see which is the best value for the hyperparameters:"
      ]
    },
    {
      "cell_type": "code",
      "metadata": {
        "id": "jD2i7msI_cLd"
      },
      "source": [
        "fig = plt.figure()\n",
        "ax = fig.add_axes([0.1, 0.1, 0.8, 0.8]) # main axes\n",
        "im = ax.imshow(accuracies.reshape((len(shearconstraints), len(angleconstraints))), cmap='inferno')\n",
        "ax.set_xlabel('angle')\n",
        "ax.set_ylabel('shear')\n",
        "ax.set_xticks(np.arange(len(angleconstraints)));\n",
        "ax.set_xticklabels(angleconstraints);\n",
        "ax.set_yticks(np.arange(len(shearconstraints)));\n",
        "ax.set_yticklabels(shearconstraints);\n",
        "plt.colorbar(im)"
      ],
      "execution_count": null,
      "outputs": []
    },
    {
      "cell_type": "markdown",
      "metadata": {
        "id": "OHcZWJiFJDMh"
      },
      "source": [
        "It seems that rotation and shear don't mix! The best accuracy is when rotation is zero."
      ]
    },
    {
      "cell_type": "markdown",
      "metadata": {
        "id": "PAasQo1C3x4A"
      },
      "source": [
        "## Questions\n",
        "Try these questions for better understanding. You may not be able to solve all of them.\n",
        "1. What is the best value for angle constraint and shear constraint you got? How much did the accuracy improve as compared to not using augmentations?\n",
        "2. Can you increase the accuracy by increasing the number of augmentations from each sample?\n",
        "3. Try implementing a few augmentations of your own and experimenting with them. A good reference is <a href=https://www.analyticsvidhya.com/blog/2019/12/image-augmentation-deep-learning-pytorch/>here. </a>\n",
        "4. Try combining various augmentations. What is the highest accuracy you can get? What is the smallest training dataset you can take and still get accuracy above 50%?\n",
        "\n",
        "Whenever you do any experiment, a good practice is to vary the hyperparameters gradually and create a graph of your results, like we did for gridsearch."
      ]
    },
    {
      "cell_type": "markdown",
      "metadata": {
        "id": "iRDwtBNmv-h2"
      },
      "source": [
        "***1)Ans***\n",
        " The best values for angle and shear constraints in data augmentation depend on the specific machine learning task and dataset you are working with. There is no one-size-fits-all answer to this question, as the optimal values can vary based on factors such as the nature of the data, the complexity of the model, and the problem you are trying to solve. The choice of augmentation parameters should be determined through experimentation and validation.\n",
        "\n",
        "In general, data augmentation techniques like rotation (angle constraint) and shear can help improve the generalization and robustness of machine learning models by providing them with a more diverse set of training examples. These augmentations can help the model learn to recognize patterns from different angles and perspectives.\n",
        "\n",
        "To find the optimal values for angle and shear constraints, you can perform the following steps:\n",
        "\n",
        "1. **Initial Experimentation**: Start with a range of values for angle and shear constraints. For example, you can try angles between -10 degrees and 10 degrees and shear factors between 0.1 and 0.3.\n",
        "\n",
        "2. **Validation**: Split your dataset into training, validation, and test sets. Train your machine learning model on the augmented training data while using the validation set to evaluate model performance.\n",
        "\n",
        "3. **Hyperparameter Tuning**: Use techniques like grid search or random search to systematically explore different combinations of augmentation parameters along with other hyperparameters of your model.\n",
        "\n",
        "4. **Compare Results**: Measure the performance metrics (e.g., accuracy, F1 score) on the validation set for each set of augmentation parameters.\n",
        "\n",
        "5. **Select Best Parameters**: Choose the combination of augmentation parameters that results in the best performance on the validation set.\n",
        "\n",
        "6. **Evaluate on Test Set**: Finally, evaluate the model with the selected augmentation parameters on a separate test set to estimate its real-world performance.\n",
        "\n",
        "The improvement in accuracy due to data augmentation will vary depending on the dataset and task. In some cases, data augmentation can lead to significant improvements in model performance, especially when the original dataset is limited or unbalanced. However, in other cases where the original dataset is already large and diverse, the improvement may be marginal.\n",
        "\n",
        "To quantify the impact of data augmentation, you can compare the accuracy of the model with augmentation to the accuracy of the model trained on the original, unaugmented data. The improvement in accuracy will be specific to your dataset and task and should be assessed through rigorous experimentation."
      ]
    },
    {
      "cell_type": "markdown",
      "metadata": {
        "id": "rUNclQ3ywFg_"
      },
      "source": [
        "***2)Ans***\n",
        " Increasing the number of augmentations from each sample can potentially improve the accuracy of your machine learning model, but it also comes with trade-offs and considerations.\n",
        "\n",
        "Pros:\n",
        "1. **Increased Data Diversity**: Augmenting each sample multiple times creates more diverse training data. This added diversity can help the model generalize better to variations in the test data, leading to improved accuracy.\n",
        "\n",
        "2. **Robustness**: Models trained on augmented data may become more robust to noise, small variations, or different viewpoints, which can enhance their real-world performance.\n",
        "\n",
        "Cons:\n",
        "1. **Risk of Overfitting**: Augmenting each sample excessively can lead to overfitting, where the model becomes too specialized in recognizing variations present in the training data but fails to generalize well to new, unseen data. This is especially a concern when the augmented data closely resembles the original data.\n",
        "\n",
        "2. **Increased Computational Load**: Augmenting each sample multiple times increases the computational load during training. This can result in longer training times and require more computational resources.\n",
        "\n",
        "3. **Diminishing Returns**: There may be diminishing returns with increasing the number of augmentations. Beyond a certain point, additional augmentations may not significantly improve model performance, and the effort and resources required may not be justified.\n",
        "\n",
        "To make the most of increasing the number of augmentations, consider the following best practices:\n",
        "\n",
        "1. **Regularization**: To mitigate the risk of overfitting, use regularization techniques such as dropout or L2 regularization in conjunction with data augmentation.\n",
        "\n",
        "2. **Monitor Validation Performance**: Continuously monitor the model's performance on a validation set as you increase the number of augmentations. If you notice diminishing or negative returns, it may be an indication that you are overdoing it.\n",
        "\n",
        "3. **Balance**: Strike a balance between augmenting each sample and the size of your training dataset. If your dataset is already large and diverse, you may not need to apply excessive augmentations.\n",
        "\n",
        "4. **Randomization**: When applying multiple augmentations to the same sample, consider adding randomness to the augmentation process. This can help ensure that each augmented version of the sample is slightly different, reducing the risk of overfitting.\n",
        "\n",
        "5. **Experiment and Validate**: As always, experiment and validate your approach. The optimal number of augmentations may vary depending on your specific dataset and machine learning task.\n",
        "\n",
        "In summary, increasing the number of augmentations from each sample can be a useful technique to enhance model performance, but it should be applied judiciously, and careful monitoring of model performance and the risk of overfitting is essential."
      ]
    },
    {
      "cell_type": "markdown",
      "metadata": {
        "id": "GFnczj3jwkC5"
      },
      "source": [
        "***3)Ans***\n",
        " Here's a simple example of how you can perform image augmentations using PyTorch:\n"
      ]
    },
    {
      "cell_type": "code",
      "execution_count": null,
      "metadata": {
        "id": "h9PrggXtDogh"
      },
      "outputs": [],
      "source": [
        "import torch\n",
        "import torchvision\n",
        "from torchvision import transforms\n",
        "from PIL import Image\n",
        "import matplotlib.pyplot as plt\n",
        "\n",
        "# Define a sample image path\n",
        "image_path = '/content/bmw.jpeg'  # Replace with the path to your own image\n",
        "\n",
        "# Load the image using PIL\n",
        "image = Image.open(image_path)\n",
        "\n",
        "# Define a series of image augmentations using torchvision transforms\n",
        "# You can customize these transforms as needed\n",
        "transform = transforms.Compose([\n",
        "    transforms.RandomHorizontalFlip(p=0.5),  # Randomly flip the image horizontally with a probability of 0.5\n",
        "    transforms.RandomRotation(degrees=(-10, 10)),  # Randomly rotate the image between -10 and 10 degrees\n",
        "    transforms.ColorJitter(brightness=0.2, contrast=0.2, saturation=0.2, hue=0.1),  # Adjust color\n",
        "    transforms.RandomResizedCrop(size=(224, 224), scale=(0.8, 1.0)),  # Randomly crop and resize the image\n",
        "    transforms.RandomAffine(degrees=0, translate=(0.1, 0.1), shear=10),  # Random affine transformation\n",
        "    transforms.RandomVerticalFlip(p=0.5),  # Randomly flip the image vertically with a probability of 0.5\n",
        "])\n",
        "\n",
        "# Apply the defined transformations to the image\n",
        "augmented_image = transform(image)\n",
        "\n",
        "# Display the original and augmented images side by side for comparison\n",
        "plt.subplot(1, 2, 1)\n",
        "plt.title(\"Original Image\")\n",
        "plt.imshow(image)\n",
        "plt.axis('off')\n",
        "\n",
        "plt.subplot(1, 2, 2)\n",
        "plt.title(\"Augmented Image\")\n",
        "plt.imshow(augmented_image)\n",
        "plt.axis('off')\n",
        "\n",
        "plt.show()"
      ]
    },
    {
      "cell_type": "code",
      "execution_count": null,
      "metadata": {
        "id": "7K7nodsaEJsE"
      },
      "outputs": [],
      "source": [
        "# importing all the required libraries\n",
        "import warnings\n",
        "warnings.filterwarnings('ignore')\n",
        "import numpy as np\n",
        "import skimage.io as io\n",
        "from skimage.transform import rotate, AffineTransform, warp\n",
        "from skimage.util import random_noise\n",
        "from skimage.filters import gaussian\n",
        "import matplotlib.pyplot as plt"
      ]
    },
    {
      "cell_type": "code",
      "execution_count": null,
      "metadata": {
        "id": "K_KAuMPWEMzA"
      },
      "outputs": [],
      "source": [
        "# reading the image using its path\n",
        "image = io.imread(\"/content/bmw.jpeg\")\n",
        "\n",
        "# shape of the image\n",
        "print(image.shape)\n",
        "\n",
        "# displaying the image\n",
        "io.imshow(image)"
      ]
    },
    {
      "cell_type": "code",
      "source": [
        "print('Rotated Image')\n",
        "#rotating the image by 45 degrees\n",
        "rotated = rotate(image, angle=45, mode = 'wrap')\n",
        "#plot the rotated image\n",
        "io.imshow(rotated)"
      ],
      "metadata": {
        "id": "XtbCuGkuXF8J"
      },
      "execution_count": null,
      "outputs": []
    },
    {
      "cell_type": "markdown",
      "source": [
        "Shifting Images\n",
        "\n",
        "There might be scenarios when the objects in the image are not perfectly central aligned. In these cases, image shift can be used to add shift-invariance to the images.\n",
        "\n",
        "By shifting the images, we can change the position of the object in the image and hence give more variety to the model. This will eventually lead to a more generalized model.\n",
        "\n",
        "Image shift is a geometric transformation that maps the position of every object in the image to a new location in the final output image.\n",
        "\n",
        "After the shift operation, an object present at a location (x,y) in the input image is shifted to a new position (X, Y):\n",
        "\n",
        "X = x + dx Y = y + dy Here, dx and dy are the respective shifts along different dimensions. Let’s see how we can apply shift to an image:"
      ],
      "metadata": {
        "id": "NdTSwYIlXLyU"
      }
    },
    {
      "cell_type": "code",
      "source": [
        "#apply shift operation\n",
        "transform = AffineTransform(translation=(25,25))\n",
        "wrapShift = warp(image,transform,mode='wrap')\n",
        "plt.imshow(wrapShift)\n",
        "plt.title('Wrap Shift')"
      ],
      "metadata": {
        "id": "az4J9wcdXPRs"
      },
      "execution_count": null,
      "outputs": []
    },
    {
      "cell_type": "markdown",
      "source": [
        "Flipping Images\n",
        "\n",
        "Flipping is an extension of rotation. It allows us to flip the image in the left-right as well as up-down direction. Let’s see how we can implement flipping:"
      ],
      "metadata": {
        "id": "Z4EMz9OAXUKY"
      }
    },
    {
      "cell_type": "code",
      "source": [
        "#flip image left-to-right\n",
        "flipLR = np.fliplr(image)\n",
        "\n",
        "plt.imshow(flipLR)\n",
        "plt.title('Left to Right Flipped')"
      ],
      "metadata": {
        "id": "nJf0Dwu_XXC_"
      },
      "execution_count": null,
      "outputs": []
    },
    {
      "cell_type": "markdown",
      "source": [
        "Adding Noise to Images\n",
        "\n",
        "Image noising is an important augmentation step that allows our model to learn how to separate signal from noise in an image. This also makes the model more robust to changes in the input.\n",
        "\n",
        "We will use the random_noise function of the skimage library to add some random noise to our original image.\n",
        "\n",
        "I will take the standard deviation of the noise to be added as 0.155 (you can change this value as well). Just keep in mind that increasing this value will add more noise to the image and vice versa:"
      ],
      "metadata": {
        "id": "IHD1NjO3Xg53"
      }
    },
    {
      "cell_type": "code",
      "source": [
        "#standard deviation for noise to be added in the image\n",
        "sigma=0.155\n",
        "#add random noise to the image\n",
        "noisyRandom = random_noise(image,var=sigma**2)\n",
        "\n",
        "plt.imshow(noisyRandom)\n",
        "plt.title('Random Noise')"
      ],
      "metadata": {
        "id": "19HY7GSvXjPE"
      },
      "execution_count": null,
      "outputs": []
    },
    {
      "cell_type": "markdown",
      "source": [
        "Blurring Images\n",
        "\n",
        "All photography lovers will instantly understand this idea.\n",
        "\n",
        "Images come from different sources. And hence, the quality of the images will not be the same from each source. Some images might be of very high quality while others might be just plain bad.\n",
        "\n",
        "In such scenarios, we can blur the image. How will that help? Well, this helps make our deep learning model more robust.\n",
        "\n",
        "Let’s see how we can do that. We will use a Gaussian filter for blurring the image:"
      ],
      "metadata": {
        "id": "ShvEn0XPXmHr"
      }
    },
    {
      "cell_type": "markdown",
      "source": [
        "Here, I have used the fliplr function of NumPy to flip the image from left to right. It flips the pixel values of each row and the output confirms the same. Similarly, we can flip the images in an up-down direction"
      ],
      "metadata": {
        "id": "0NuNqnwBXaia"
      }
    },
    {
      "cell_type": "code",
      "source": [
        "#blur the image\n",
        "blurred = gaussian(image,sigma=1,multichannel=True)\n",
        "\n",
        "plt.imshow(blurred)\n",
        "plt.title('Blurred Image')"
      ],
      "metadata": {
        "id": "0U3GgLytXqSB"
      },
      "execution_count": null,
      "outputs": []
    },
    {
      "cell_type": "markdown",
      "source": [
        "Sigma here is the standard deviation for the Gaussian filter. I have taken it as 1. The higher the sigma value, the more will be the blurring effect. Setting Multichannel to true ensures that each channel of the image is filtered separately.\n",
        "\n",
        "Again, you can try different sigma values to change the magnitude of blurriness.\n",
        "\n",
        "These are some of the image augmentation techniques which help to make our deep learning model robust and generalizable. This also helps increase the size of the training set.\n",
        "\n",
        "We’re almost at the implementation part of this tutorial. Before that, let’s look at some of the basic guidelines for deciding the right image augmentation technique."
      ],
      "metadata": {
        "id": "pW0Aoe5LXswC"
      }
    },
    {
      "cell_type": "markdown",
      "source": [
        "***4)Ans***\n",
        " Achieving the highest accuracy and determining the smallest training dataset size needed to achieve an accuracy above 50% depends on various factors, including the specific dataset, model architecture, and the quality of augmentations applied. Here's a general approach to experiment and find the highest accuracy and the minimum dataset size:\n",
        "\n",
        "1. **Dataset and Model Selection**: Choose a suitable dataset and model architecture for your task. For this example, let's assume you're working with a well-known dataset like CIFAR-10 and a convolutional neural network (CNN) architecture.\n",
        "\n",
        "2. **Data Augmentation**: Apply a combination of data augmentations to your training dataset. Common augmentations include random rotation, horizontal flip, random crop, and color jitter, among others. You can use the torchvision.transforms module in PyTorch for this purpose.\n",
        "\n",
        "3. **Training Loop**: Set up a training loop where you train your model using the augmented dataset. Use a validation set to monitor model performance and prevent overfitting.\n",
        "\n",
        "4. **Experimentation**:\n",
        "   - Start with a moderate dataset size (e.g., 10% of the full dataset) and a reasonable combination of augmentations.\n",
        "   - Train your model and evaluate its accuracy on the validation set.\n",
        "   - Experiment with different combinations of augmentations, hyperparameters (e.g., learning rate, batch size), and dataset sizes.\n",
        "   - Gradually increase the dataset size while monitoring the validation accuracy until you reach an accuracy above 50%.\n",
        "\n",
        "5. **Hyperparameter Tuning**: Fine-tune your model's hyperparameters as needed to achieve the highest accuracy. You can use techniques like grid search or random search to explore different hyperparameter combinations.\n",
        "\n",
        "6. **Validation**: Ensure that you're using a separate validation set to avoid overfitting and accurately measure model performance.\n",
        "\n",
        "7. **Testing**: Finally, evaluate your model's accuracy on a separate test dataset to estimate its real-world performance.\n",
        "\n",
        "Please note that the exact results will vary depending on the dataset and model architecture. The specific augmentations and dataset size required to achieve an accuracy above 50% will depend on the task's complexity and the quality of your augmentations.\n",
        "\n",
        "Remember that while data augmentation can improve model performance, it's not a substitute for a sufficiently large and diverse dataset. In practice, larger datasets with high-quality annotations often play a crucial role in achieving high accuracy in deep learning tasks."
      ],
      "metadata": {
        "id": "TJbMjX5dXvyk"
      }
    },
    {
      "cell_type": "code",
      "source": [
        "#flip image up-to-down\n",
        "flipUD = np.flipud(image)\n",
        "\n",
        "plt.imshow(flipUD)\n",
        "plt.title('Up Down Flipped')"
      ],
      "metadata": {
        "id": "V9Dco_J4Xc38"
      },
      "execution_count": null,
      "outputs": []
    }
  ]
}